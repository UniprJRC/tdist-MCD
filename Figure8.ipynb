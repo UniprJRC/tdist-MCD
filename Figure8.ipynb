{
 "cells": [
  {
   "cell_type": "markdown",
   "metadata": {},
   "source": [
    "\n",
    "# <span style=\"color:rgb(213,80,0)\">This script generates Figure 8</span>\n",
    "\n",
    "The figure shows realizations of the empirical radius process generated with specific parameter values:  \\$n=1000\\$, \\$\\\\alpha_{0}=0.25\\$, \\$p=5\\$ and \\$\\\\nu=5\\$. In one case the \\$95\\\\%\\$ (\\$\\\\beta=0.05\\$) confidence band are those for \\$\\\\nu_0=5\\$. In the other two cases the confidence band are the same, but the realizations of the empirical radius are obtained with \\$p=3\\$ and \\$p=10\\$, respectively.\n",
    "\n",
    "\n",
    "Step 1 is to simulate radius process for fixed n, p, nu, $\\alpha_0$ . For this, we use the same code used for generating Figure 3, using function paper\\_Figure\\_3.\n",
    ""
   ]
  },
  {
   "cell_type": "code",
   "execution_count": 1,
   "metadata": {},
   "source": [
    "\n",
    "    data    = 'T';\n",
    "    model   = 'T';\n",
    "    B       = 1000;\n",
    "    p       = 5;\n",
    "    nu      = 5;  % 5 3 10\n",
    "    alpha0  = 0.25;\n",
    "    n       = 1000;\n",
    "    addtitle = false;\n",
    "\n",
    "    [outSIM , DDs]= paper_Figure_3(n,p,nu,B,alpha0,data,model)\n",
    "    outSIM_nu5 = outSIM;\n",
    "    DDs_nu5    = DDs;\n",
    "\n",
    "    nu      = 3;\n",
    "    [outSIM , DDs]= paper_Figure_3(n,p,nu,B,alpha0,data,model)\n",
    "    outSIM_nu3 = outSIM;\n",
    "    DDs_nu3    = DDs;\n",
    "\n",
    "    nu      = 10;\n",
    "    [outSIM , DDs]= paper_Figure_3(n,p,nu,B,alpha0,data,model)\n",
    "    outSIM_nu10 = outSIM;\n",
    "    DDs_nu10    = DDs;"
   ],
   "outputs": []
  },
  {
   "cell_type": "markdown",
   "metadata": {},
   "source": [
    "\n",
    "Then we can generate the plots with this function.\n",
    ""
   ]
  },
  {
   "cell_type": "code",
   "execution_count": 2,
   "metadata": {},
   "source": [
    "\n",
    "    % Step 2: Generate the plots\n",
    "\n",
    "    [hfig1] = paper_Figure_8(outSIM_nu5, DDs_nu5,  'paper_8a_');\n",
    "\n",
    "    [hfig2] = paper_Figure_8(outSIM_nu5, DDs_nu3,  'paper_8b_');\n",
    "\n",
    "    [hfig3] = paper_Figure_8(outSIM_nu5, DDs_nu10, 'paper_8c_');\n",
    ""
   ],
   "outputs": []
}
 ],
 "metadata": {
  "kernelspec": {
   "display_name": "MATLAB (matlabkernel)",
   "language": "matlab",
   "name": "matlab"
  },
  "language_info": {
   "file_extension": ".m",
   "mimetype": "text/matlab",
   "name": "matlab",
   "nbconvert_exporter": "matlab",
   "pygments_lexer": "matlab",
   "version": "24.2.0.2833386"
  }
 },
 "nbformat": 4,
 "nbformat_minor": 4
}