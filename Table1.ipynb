{
 "cells": [
  {
   "cell_type": "markdown",
   "metadata": {},
   "source": [
    "\n",
    "# Table of Kolmogorov\\-Smirnov an Anderson\\-Darling $95\\%$ quantiles\n",
    "\n",
    "The table KSAD contains the estimated Kolmogorov\\-Smirnov an Anderson\\-Darling  $95\\%$ quantiles. It is available as matlab binary file, csv file and xlsx file. This script reads the data and organise it as a latex table. In the table, the variable $h$ is the actual number of observations used by the MCD based of the trimming level specified by $\\alpha_0$ .\n",
    ""
   ]
  },
  {
   "cell_type": "code",
   "execution_count": 1,
   "metadata": {},
   "source": [
    "% load('KSAD.mat');\n",
    "ksad     = readtable('ksad.xlsx');\n",
    "ksad_no0 = ksad(ksad.nu ~= 0,:);\n",
    "precision = 6;\n",
    "stylerc   = 'b';\n",
    "[latex_string , disp_string , latex_string_full] = ...\n",
    "    tabledisp(ksad_no0, precision, stylerc);"
   ],
   "outputs": []
  },
  {
   "cell_type": "markdown",
   "metadata": {},
   "source": [
    "## Display of the matlab annotation table in the paper"
   ]
  },
  {
   "cell_type": "code",
   "execution_count": 2,
   "metadata": {},
   "source": [
    "% This cell displays a sample of the table in a matlab window. Note that this\n",
    "% is possible only for small portions of the full table.\n",
    "\n",
    "n = size(ksad,1);\n",
    "ksad_sel  = ksad([1:20 , n-20:n],:);\n",
    "ksad_sel  = ksad_sel(ksad_sel.nu ~= 0,:);\n",
    "precision = 6;\n",
    "stylerc   = 'b';\n",
    "[latex_string_sel , disp_string_sel , latex_string_full_sel] = ...\n",
    "    tabledisp(ksad_sel, precision, stylerc);\n",
    "\n",
    "hf = figure;\n",
    "annotation(hf,'Textbox','String',latex_string_sel,...\n",
    "    'FitBoxToText','on','Interpreter','latex',...\n",
    "    'FontName',get(0,'FixedWidthFontName'),'FontSize',14,...\n",
    "    'Units','Normalized','Position',[0 0 1 1]);\n",
    "% This is to display the table in the command window without disp\n",
    "fprintf(disp_string_sel);"
   ],
   "outputs": [
    {
     "data": {
      "text/plain": [
       " RAW NAME    |          p  |         nu  |          n  |      alpha  | KolmogorovSmirnov  | AndersonDarling  |          h  |  \n",
       "          1  |         10  |         50  |      1,588  |      0.225  |     1.0919  |    0.19006  |      1,232  |  \n",
       "          2  |         10  |         50  |      1,588  |       0.25  |     1.1405  |    0.20508  |      1,193  |  \n",
       "          3  |         10  |         50  |      1,588  |      0.375  |     1.4761  |    0.38307  |        996  |  \n",
       "          4  |         10  |         50  |      1,588  |        0.5  |     1.8507  |    0.80457  |        799  |  \n",
       "          5  |         10  |         50  |      2,000  |          0  |     1.0116  |    0.19438  |      2,000  |  \n",
       "          6  |         10  |         50  |      2,000  |      0.005  |     1.0064  |    0.19101  |      1,990  |  \n",
       "          7  |         10  |         50  |      2,000  |       0.01  |    0.99504  |     0.1858  |      1,980  |  \n",
       "          8  |         10  |         50  |      2,000  |      0.015  |    0.98656  |    0.18234  |      1,970  |  \n",
       "          9  |         10  |         50  |      2,000  |       0.02  |    0.98234  |    0.17989  |      1,960  |  \n",
       "         10  |         10  |         50  |      2,000  |      0.025  |    0.97324  |    0.17609  |      1,950  |  \n",
       "         11  |         10  |         50  |      2,000  |       0.05  |    0.94731  |    0.16799  |      1,900  |  \n",
       "         12  |         10  |         50  |      2,000  |      0.075  |    0.92915  |    0.16199  |      1,850  |  \n",
       "         13  |         10  |         50  |      2,000  |        0.1  |    0.92478  |    0.16107  |      1,801  |  \n",
       "         14  |         10  |         50  |      2,000  |      0.125  |    0.92492  |    0.15928  |      1,751  |  \n",
       "         15  |         10  |         50  |      2,000  |       0.15  |    0.94581  |    0.15874  |      1,701  |  \n",
       "         16  |         10  |         50  |      2,000  |      0.175  |     0.9697  |    0.16142  |      1,651  |  \n",
       "         17  |         10  |         50  |      2,000  |        0.2  |     1.0038  |    0.16945  |      1,602  |  \n",
       "         18  |         10  |         50  |      2,000  |      0.225  |     1.0549  |    0.17643  |      1,552  |  \n",
       "         19  |         10  |         50  |      2,000  |       0.25  |     1.1055  |    0.19206  |      1,502  |  \n",
       "         20  |         10  |         50  |      2,000  |      0.375  |     1.4075  |    0.35298  |      1,253  |  \n",
       "         21  |         10  |         50  |      2,000  |        0.5  |     1.7597  |    0.71967  |      1,005  |"
      ]
     },
     "metadata": {},
     "execution_count":  2,
     "output_type": "execute_result"
    }
   ]
  },
  {
   "cell_type": "code",
   "execution_count": 3,
   "metadata": {},
   "source": [
    "\n",
    "\n",
    "%{\n",
    "    % This cell is to write the table in a spreadsheet\n",
    "    filename  = 'ksad_table';\n",
    "    writetable(ksad,filename);\n",
    "    writetable(ksad,filename,'FileType','spreadsheet');\n",
    "%}"
   ],
   "outputs": []
}
 ],
 "metadata": {
  "kernelspec": {
   "display_name": "MATLAB (matlabkernel)",
   "language": "matlab",
   "name": "matlab"
  },
  "language_info": {
   "file_extension": ".m",
   "mimetype": "text/matlab",
   "name": "matlab",
   "nbconvert_exporter": "matlab",
   "pygments_lexer": "matlab",
   "version": "24.2.0.2833386"
  }
 },
 "nbformat": 4,
 "nbformat_minor": 4
}